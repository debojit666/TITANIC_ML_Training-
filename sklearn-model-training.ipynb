{
 "cells": [
  {
   "cell_type": "markdown",
   "metadata": {},
   "source": [
    "### ডাটা লোডিং, ফিচার ম্যাট্রিক্স এবং টার্গেট ভেক্টরে"
   ]
  },
  {
   "cell_type": "code",
   "execution_count": 1,
   "metadata": {
    "collapsed": true
   },
   "outputs": [],
   "source": [
    "# import load_iris function from datasets module\n",
    "from sklearn.datasets import load_iris\n",
    "\n",
    "# save \"bunch\" object containing iris dataset and its attributes\n",
    "iris = load_iris()"
   ]
  },
  {
   "cell_type": "markdown",
   "metadata": {},
   "source": [
    "### সাইকিট-লার্ন এর ৫ ধাপের মডেলিং প্যাটার্ন "
   ]
  },
  {
   "cell_type": "markdown",
   "metadata": {},
   "source": [
    "#### ১ম ধাপ\n",
    "\n",
    "বেছে নিন একটা মডেল ক্লাস। এখানে আমরা বেছে নিয়েছি K-nearest neighbors ক্লাসিফায়ার।"
   ]
  },
  {
   "cell_type": "code",
   "execution_count": 2,
   "metadata": {
    "collapsed": true
   },
   "outputs": [],
   "source": [
    "from sklearn.neighbors import KNeighborsClassifier"
   ]
  },
  {
   "cell_type": "markdown",
   "metadata": {},
   "source": [
    "### ২য় ধাপ\n",
    "\n",
    "মডেলের হাইপার-প্যারামিটার বেছে নিন। \n",
    "\n",
    "১. সাইকিট-লার্ন কনভেনশন অনুযায়ী মডেলকে \"এস্টিমেটর\" বলি।\n",
    "\n",
    "২. “এস্টিমেটর”কে ইনস্ট্যান্সিয়েট করা। মানে মডেলের একটা ‘ইনস্ট্যান্স’ চালু করা। \n",
    "\n",
    "৩. সাইকিট-লার্নে আমরা মডেলের ‘ইনস্ট্যান্স’ চালু করার সময় হাইপার-প্যারামিটারগুলোর ভ্যালুগুলোকে পাঠিয়ে দেই ওই মডেলে।"
   ]
  },
  {
   "cell_type": "code",
   "execution_count": 3,
   "metadata": {
    "collapsed": true
   },
   "outputs": [],
   "source": [
    "knn = KNeighborsClassifier(n_neighbors=1)"
   ]
  },
  {
   "cell_type": "code",
   "execution_count": 4,
   "metadata": {},
   "outputs": [
    {
     "name": "stdout",
     "output_type": "stream",
     "text": [
      "KNeighborsClassifier(algorithm='auto', leaf_size=30, metric='minkowski',\n",
      "           metric_params=None, n_jobs=1, n_neighbors=1, p=2,\n",
      "           weights='uniform')\n"
     ]
    }
   ],
   "source": [
    "print(knn)"
   ]
  },
  {
   "cell_type": "code",
   "execution_count": 5,
   "metadata": {},
   "outputs": [
    {
     "data": {
      "text/plain": [
       "KNeighborsClassifier(algorithm='auto', leaf_size=30, metric='minkowski',\n",
       "           metric_params=None, n_jobs=1, n_neighbors=1, p=2,\n",
       "           weights='uniform')"
      ]
     },
     "execution_count": 5,
     "metadata": {},
     "output_type": "execute_result"
    }
   ],
   "source": [
    "knn"
   ]
  },
  {
   "cell_type": "markdown",
   "metadata": {},
   "source": [
    "### ৩য় ধাপ\n",
    "\n",
    "ডাটাকে সাজাই ফীচার ম্যাট্রিক্স এবং টার্গেট ভেক্টরের মতো করে। \n",
    "\n",
    "এর আগে কি দেখেছি? সাইকিট-লার্ন ডাটা রিপ্রেজেন্টেশনে আমাদের দুই ডাইমেনশনের ফীচার ম্যাট্রিক্স আর এক ডাইমেশনের টার্গেট অ্যারে লাগে।"
   ]
  },
  {
   "cell_type": "code",
   "execution_count": 6,
   "metadata": {
    "collapsed": true
   },
   "outputs": [],
   "source": [
    "# ফিচার ম্যাট্রিক্সকে রাখছি \"X\" এ \n",
    "X = iris.data\n",
    "\n",
    "# টার্গেট ভেক্টরকে রাখা হচ্ছে \"y\" এ \n",
    "y = iris.target"
   ]
  },
  {
   "cell_type": "markdown",
   "metadata": {},
   "source": [
    "### ৪র্থ ধাপ\n",
    "\n",
    "আমাদের মডেলে ডাটা “ফিট” করা।\n",
    "\n",
    "ট্রেনিং সেট থেকে (এখানে যেটা আমাদের পুরো ডাটা, ১৫০টা রেকর্ড) মডেল তৈরি করতে আমরা “ফিট” মেথড কল করবো knn অবজেক্ট থেকে। কল করার সঙ্গে সঙ্গে সে দুটো জিনিসকে আর্গুমেন্ট হিসেবে নেয়। দুটো জিনিস, ফিচার অ্যারে আর একটা টার্গেট ভেক্টর। আগের ধাপে বের করা বড় হাতের X আর ছোট হাতের y কে ‘ফিট’ কমান্ড আসলে ফিচার মেট্রিক্স আর টার্গেট ভেক্টরের মধ্যে সম্পর্কটা শিখিয়ে দেয়় মডেলকে।"
   ]
  },
  {
   "cell_type": "code",
   "execution_count": 7,
   "metadata": {},
   "outputs": [
    {
     "data": {
      "text/plain": [
       "KNeighborsClassifier(algorithm='auto', leaf_size=30, metric='minkowski',\n",
       "           metric_params=None, n_jobs=1, n_neighbors=1, p=2,\n",
       "           weights='uniform')"
      ]
     },
     "execution_count": 7,
     "metadata": {},
     "output_type": "execute_result"
    }
   ],
   "source": [
    "knn.fit(X, y)"
   ]
  },
  {
   "cell_type": "markdown",
   "metadata": {},
   "source": [
    "### ৫ম ধাপ\n",
    "\n",
    "অজানা, নতুন ডাটার  লেবেল প্রেডিক্ট করা। \n",
    "\n",
    "নতুন ডাটাকে বলছি “আউট অফ স্যাম্পল” ডাটা। মডেল ট্রেনিং থেকে শিখে প্রেডিক্ট করে নতুন ডাটাকে একটা লেবেল দিয়ে। আউটপুট দিচ্ছে একটা নামপাই অ্যারে। "
   ]
  },
  {
   "cell_type": "code",
   "execution_count": 8,
   "metadata": {},
   "outputs": [
    {
     "data": {
      "text/plain": [
       "array([2])"
      ]
     },
     "execution_count": 8,
     "metadata": {},
     "output_type": "execute_result"
    }
   ],
   "source": [
    "knn.predict([[3, 5, 4, 2]])"
   ]
  },
  {
   "cell_type": "markdown",
   "metadata": {},
   "source": [
    "2 = Virginica\n",
    "\n",
    "Class labels : {0, 1, 2}, distribution: [50, 50, 50]\n",
    "\n",
    "0 = setosa, 1 = versicolor, 2 = virginica."
   ]
  },
  {
   "cell_type": "code",
   "execution_count": null,
   "metadata": {
    "collapsed": true
   },
   "outputs": [],
   "source": []
  }
 ],
 "metadata": {
  "kernelspec": {
   "display_name": "Python 3",
   "language": "python",
   "name": "python3"
  },
  "language_info": {
   "codemirror_mode": {
    "name": "ipython",
    "version": 3
   },
   "file_extension": ".py",
   "mimetype": "text/x-python",
   "name": "python",
   "nbconvert_exporter": "python",
   "pygments_lexer": "ipython3",
   "version": "3.6.3"
  }
 },
 "nbformat": 4,
 "nbformat_minor": 2
}
